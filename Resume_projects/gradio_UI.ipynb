{
  "nbformat": 4,
  "nbformat_minor": 0,
  "metadata": {
    "colab": {
      "provenance": [],
      "authorship_tag": "ABX9TyObpD6YoA/MXKp6czydrJi6",
      "include_colab_link": true
    },
    "kernelspec": {
      "name": "python3",
      "display_name": "Python 3"
    },
    "language_info": {
      "name": "python"
    }
  },
  "cells": [
    {
      "cell_type": "markdown",
      "metadata": {
        "id": "view-in-github",
        "colab_type": "text"
      },
      "source": [
        "<a href=\"https://colab.research.google.com/github/kshitijdesai99/my_data_science_projects/blob/main/gradio_UI.ipynb\" target=\"_parent\"><img src=\"https://colab.research.google.com/assets/colab-badge.svg\" alt=\"Open In Colab\"/></a>"
      ]
    },
    {
      "cell_type": "code",
      "source": [
        "pip install gradio"
      ],
      "metadata": {
        "colab": {
          "base_uri": "https://localhost:8080/"
        },
        "id": "yX9vnnt0Nw8Y",
        "outputId": "2c072dab-547d-4585-c3f6-d681af5d43a9"
      },
      "execution_count": 1,
      "outputs": [
        {
          "output_type": "stream",
          "name": "stdout",
          "text": [
            "Looking in indexes: https://pypi.org/simple, https://us-python.pkg.dev/colab-wheels/public/simple/\n",
            "Collecting gradio\n",
            "  Downloading gradio-3.28.3-py3-none-any.whl (17.3 MB)\n",
            "\u001b[2K     \u001b[90m━━━━━━━━━━━━━━━━━━━━━━━━━━━━━━━━━━━━━━━━\u001b[0m \u001b[32m17.3/17.3 MB\u001b[0m \u001b[31m38.5 MB/s\u001b[0m eta \u001b[36m0:00:00\u001b[0m\n",
            "\u001b[?25hCollecting ffmpy\n",
            "  Downloading ffmpy-0.3.0.tar.gz (4.8 kB)\n",
            "  Preparing metadata (setup.py) ... \u001b[?25l\u001b[?25hdone\n",
            "Collecting aiohttp\n",
            "  Downloading aiohttp-3.8.4-cp310-cp310-manylinux_2_17_x86_64.manylinux2014_x86_64.whl (1.0 MB)\n",
            "\u001b[2K     \u001b[90m━━━━━━━━━━━━━━━━━━━━━━━━━━━━━━━━━━━━━━━━\u001b[0m \u001b[32m1.0/1.0 MB\u001b[0m \u001b[31m30.9 MB/s\u001b[0m eta \u001b[36m0:00:00\u001b[0m\n",
            "\u001b[?25hCollecting aiofiles\n",
            "  Downloading aiofiles-23.1.0-py3-none-any.whl (14 kB)\n",
            "Collecting semantic-version\n",
            "  Downloading semantic_version-2.10.0-py2.py3-none-any.whl (15 kB)\n",
            "Requirement already satisfied: pandas in /usr/local/lib/python3.10/dist-packages (from gradio) (1.5.3)\n",
            "Requirement already satisfied: pydantic in /usr/local/lib/python3.10/dist-packages (from gradio) (1.10.7)\n",
            "Requirement already satisfied: markdown-it-py[linkify]>=2.0.0 in /usr/local/lib/python3.10/dist-packages (from gradio) (2.2.0)\n",
            "Requirement already satisfied: jinja2 in /usr/local/lib/python3.10/dist-packages (from gradio) (3.1.2)\n",
            "Collecting pydub\n",
            "  Downloading pydub-0.25.1-py2.py3-none-any.whl (32 kB)\n",
            "Requirement already satisfied: requests in /usr/local/lib/python3.10/dist-packages (from gradio) (2.27.1)\n",
            "Requirement already satisfied: pyyaml in /usr/local/lib/python3.10/dist-packages (from gradio) (6.0)\n",
            "Requirement already satisfied: typing-extensions in /usr/local/lib/python3.10/dist-packages (from gradio) (4.5.0)\n",
            "Collecting httpx\n",
            "  Downloading httpx-0.24.0-py3-none-any.whl (75 kB)\n",
            "\u001b[2K     \u001b[90m━━━━━━━━━━━━━━━━━━━━━━━━━━━━━━━━━━━━━━━━\u001b[0m \u001b[32m75.3/75.3 kB\u001b[0m \u001b[31m4.8 MB/s\u001b[0m eta \u001b[36m0:00:00\u001b[0m\n",
            "\u001b[?25hCollecting huggingface-hub>=0.13.0\n",
            "  Downloading huggingface_hub-0.14.1-py3-none-any.whl (224 kB)\n",
            "\u001b[2K     \u001b[90m━━━━━━━━━━━━━━━━━━━━━━━━━━━━━━━━━━━━━━\u001b[0m \u001b[32m224.5/224.5 kB\u001b[0m \u001b[31m13.5 MB/s\u001b[0m eta \u001b[36m0:00:00\u001b[0m\n",
            "\u001b[?25hRequirement already satisfied: altair>=4.2.0 in /usr/local/lib/python3.10/dist-packages (from gradio) (4.2.2)\n",
            "Requirement already satisfied: markupsafe in /usr/local/lib/python3.10/dist-packages (from gradio) (2.1.2)\n",
            "Collecting mdit-py-plugins<=0.3.3\n",
            "  Downloading mdit_py_plugins-0.3.3-py3-none-any.whl (50 kB)\n",
            "\u001b[2K     \u001b[90m━━━━━━━━━━━━━━━━━━━━━━━━━━━━━━━━━━━━━━━━\u001b[0m \u001b[32m50.5/50.5 kB\u001b[0m \u001b[31m2.7 MB/s\u001b[0m eta \u001b[36m0:00:00\u001b[0m\n",
            "\u001b[?25hRequirement already satisfied: numpy in /usr/local/lib/python3.10/dist-packages (from gradio) (1.22.4)\n",
            "Collecting websockets>=10.0\n",
            "  Downloading websockets-11.0.3-cp310-cp310-manylinux_2_5_x86_64.manylinux1_x86_64.manylinux_2_17_x86_64.manylinux2014_x86_64.whl (129 kB)\n",
            "\u001b[2K     \u001b[90m━━━━━━━━━━━━━━━━━━━━━━━━━━━━━━━━━━━━━━━\u001b[0m \u001b[32m129.9/129.9 kB\u001b[0m \u001b[31m4.0 MB/s\u001b[0m eta \u001b[36m0:00:00\u001b[0m\n",
            "\u001b[?25hCollecting python-multipart\n",
            "  Downloading python_multipart-0.0.6-py3-none-any.whl (45 kB)\n",
            "\u001b[2K     \u001b[90m━━━━━━━━━━━━━━━━━━━━━━━━━━━━━━━━━━━━━━━━\u001b[0m \u001b[32m45.7/45.7 kB\u001b[0m \u001b[31m3.0 MB/s\u001b[0m eta \u001b[36m0:00:00\u001b[0m\n",
            "\u001b[?25hRequirement already satisfied: pillow in /usr/local/lib/python3.10/dist-packages (from gradio) (8.4.0)\n",
            "Collecting gradio-client>=0.1.3\n",
            "  Downloading gradio_client-0.2.1-py3-none-any.whl (287 kB)\n",
            "\u001b[2K     \u001b[90m━━━━━━━━━━━━━━━━━━━━━━━━━━━━━━━━━━━━━━\u001b[0m \u001b[32m287.9/287.9 kB\u001b[0m \u001b[31m11.3 MB/s\u001b[0m eta \u001b[36m0:00:00\u001b[0m\n",
            "\u001b[?25hRequirement already satisfied: pygments>=2.12.0 in /usr/local/lib/python3.10/dist-packages (from gradio) (2.14.0)\n",
            "Collecting uvicorn\n",
            "  Downloading uvicorn-0.22.0-py3-none-any.whl (58 kB)\n",
            "\u001b[2K     \u001b[90m━━━━━━━━━━━━━━━━━━━━━━━━━━━━━━━━━━━━━━━━\u001b[0m \u001b[32m58.3/58.3 kB\u001b[0m \u001b[31m3.1 MB/s\u001b[0m eta \u001b[36m0:00:00\u001b[0m\n",
            "\u001b[?25hCollecting fastapi\n",
            "  Downloading fastapi-0.95.1-py3-none-any.whl (56 kB)\n",
            "\u001b[2K     \u001b[90m━━━━━━━━━━━━━━━━━━━━━━━━━━━━━━━━━━━━━━━━\u001b[0m \u001b[32m57.0/57.0 kB\u001b[0m \u001b[31m2.6 MB/s\u001b[0m eta \u001b[36m0:00:00\u001b[0m\n",
            "\u001b[?25hRequirement already satisfied: matplotlib in /usr/local/lib/python3.10/dist-packages (from gradio) (3.7.1)\n",
            "Collecting orjson\n",
            "  Downloading orjson-3.8.12-cp310-cp310-manylinux_2_17_x86_64.manylinux2014_x86_64.whl (137 kB)\n",
            "\u001b[2K     \u001b[90m━━━━━━━━━━━━━━━━━━━━━━━━━━━━━━━━━━━━━━━\u001b[0m \u001b[32m137.2/137.2 kB\u001b[0m \u001b[31m1.6 MB/s\u001b[0m eta \u001b[36m0:00:00\u001b[0m\n",
            "\u001b[?25hRequirement already satisfied: toolz in /usr/local/lib/python3.10/dist-packages (from altair>=4.2.0->gradio) (0.12.0)\n",
            "Requirement already satisfied: entrypoints in /usr/local/lib/python3.10/dist-packages (from altair>=4.2.0->gradio) (0.4)\n",
            "Requirement already satisfied: jsonschema>=3.0 in /usr/local/lib/python3.10/dist-packages (from altair>=4.2.0->gradio) (4.3.3)\n",
            "Requirement already satisfied: fsspec in /usr/local/lib/python3.10/dist-packages (from gradio-client>=0.1.3->gradio) (2023.4.0)\n",
            "Requirement already satisfied: packaging in /usr/local/lib/python3.10/dist-packages (from gradio-client>=0.1.3->gradio) (23.1)\n",
            "Requirement already satisfied: tqdm>=4.42.1 in /usr/local/lib/python3.10/dist-packages (from huggingface-hub>=0.13.0->gradio) (4.65.0)\n",
            "Requirement already satisfied: filelock in /usr/local/lib/python3.10/dist-packages (from huggingface-hub>=0.13.0->gradio) (3.12.0)\n",
            "Requirement already satisfied: mdurl~=0.1 in /usr/local/lib/python3.10/dist-packages (from markdown-it-py[linkify]>=2.0.0->gradio) (0.1.2)\n",
            "Collecting linkify-it-py<3,>=1\n",
            "  Downloading linkify_it_py-2.0.2-py3-none-any.whl (19 kB)\n",
            "Requirement already satisfied: pytz>=2020.1 in /usr/local/lib/python3.10/dist-packages (from pandas->gradio) (2022.7.1)\n",
            "Requirement already satisfied: python-dateutil>=2.8.1 in /usr/local/lib/python3.10/dist-packages (from pandas->gradio) (2.8.2)\n",
            "Collecting async-timeout<5.0,>=4.0.0a3\n",
            "  Downloading async_timeout-4.0.2-py3-none-any.whl (5.8 kB)\n",
            "Collecting multidict<7.0,>=4.5\n",
            "  Downloading multidict-6.0.4-cp310-cp310-manylinux_2_17_x86_64.manylinux2014_x86_64.whl (114 kB)\n",
            "\u001b[2K     \u001b[90m━━━━━━━━━━━━━━━━━━━━━━━━━━━━━━━━━━━━━━━\u001b[0m \u001b[32m114.5/114.5 kB\u001b[0m \u001b[31m3.9 MB/s\u001b[0m eta \u001b[36m0:00:00\u001b[0m\n",
            "\u001b[?25hCollecting aiosignal>=1.1.2\n",
            "  Downloading aiosignal-1.3.1-py3-none-any.whl (7.6 kB)\n",
            "Requirement already satisfied: charset-normalizer<4.0,>=2.0 in /usr/local/lib/python3.10/dist-packages (from aiohttp->gradio) (2.0.12)\n",
            "Collecting frozenlist>=1.1.1\n",
            "  Downloading frozenlist-1.3.3-cp310-cp310-manylinux_2_5_x86_64.manylinux1_x86_64.manylinux_2_17_x86_64.manylinux2014_x86_64.whl (149 kB)\n",
            "\u001b[2K     \u001b[90m━━━━━━━━━━━━━━━━━━━━━━━━━━━━━━━━━━━━━━\u001b[0m \u001b[32m149.6/149.6 kB\u001b[0m \u001b[31m11.9 MB/s\u001b[0m eta \u001b[36m0:00:00\u001b[0m\n",
            "\u001b[?25hRequirement already satisfied: attrs>=17.3.0 in /usr/local/lib/python3.10/dist-packages (from aiohttp->gradio) (23.1.0)\n",
            "Collecting yarl<2.0,>=1.0\n",
            "  Downloading yarl-1.9.2-cp310-cp310-manylinux_2_17_x86_64.manylinux2014_x86_64.whl (268 kB)\n",
            "\u001b[2K     \u001b[90m━━━━━━━━━━━━━━━━━━━━━━━━━━━━━━━━━━━━━━\u001b[0m \u001b[32m268.8/268.8 kB\u001b[0m \u001b[31m13.0 MB/s\u001b[0m eta \u001b[36m0:00:00\u001b[0m\n",
            "\u001b[?25hCollecting starlette<0.27.0,>=0.26.1\n",
            "  Downloading starlette-0.26.1-py3-none-any.whl (66 kB)\n",
            "\u001b[2K     \u001b[90m━━━━━━━━━━━━━━━━━━━━━━━━━━━━━━━━━━━━━━━━\u001b[0m \u001b[32m66.9/66.9 kB\u001b[0m \u001b[31m3.7 MB/s\u001b[0m eta \u001b[36m0:00:00\u001b[0m\n",
            "\u001b[?25hRequirement already satisfied: sniffio in /usr/local/lib/python3.10/dist-packages (from httpx->gradio) (1.3.0)\n",
            "Requirement already satisfied: certifi in /usr/local/lib/python3.10/dist-packages (from httpx->gradio) (2022.12.7)\n",
            "Collecting httpcore<0.18.0,>=0.15.0\n",
            "  Downloading httpcore-0.17.0-py3-none-any.whl (70 kB)\n",
            "\u001b[2K     \u001b[90m━━━━━━━━━━━━━━━━━━━━━━━━━━━━━━━━━━━━━━━━\u001b[0m \u001b[32m70.6/70.6 kB\u001b[0m \u001b[31m3.7 MB/s\u001b[0m eta \u001b[36m0:00:00\u001b[0m\n",
            "\u001b[?25hRequirement already satisfied: idna in /usr/local/lib/python3.10/dist-packages (from httpx->gradio) (3.4)\n",
            "Requirement already satisfied: kiwisolver>=1.0.1 in /usr/local/lib/python3.10/dist-packages (from matplotlib->gradio) (1.4.4)\n",
            "Requirement already satisfied: contourpy>=1.0.1 in /usr/local/lib/python3.10/dist-packages (from matplotlib->gradio) (1.0.7)\n",
            "Requirement already satisfied: pyparsing>=2.3.1 in /usr/local/lib/python3.10/dist-packages (from matplotlib->gradio) (3.0.9)\n",
            "Requirement already satisfied: fonttools>=4.22.0 in /usr/local/lib/python3.10/dist-packages (from matplotlib->gradio) (4.39.3)\n",
            "Requirement already satisfied: cycler>=0.10 in /usr/local/lib/python3.10/dist-packages (from matplotlib->gradio) (0.11.0)\n",
            "Requirement already satisfied: urllib3<1.27,>=1.21.1 in /usr/local/lib/python3.10/dist-packages (from requests->gradio) (1.26.15)\n",
            "Collecting h11>=0.8\n",
            "  Downloading h11-0.14.0-py3-none-any.whl (58 kB)\n",
            "\u001b[2K     \u001b[90m━━━━━━━━━━━━━━━━━━━━━━━━━━━━━━━━━━━━━━━━\u001b[0m \u001b[32m58.3/58.3 kB\u001b[0m \u001b[31m3.2 MB/s\u001b[0m eta \u001b[36m0:00:00\u001b[0m\n",
            "\u001b[?25hRequirement already satisfied: click>=7.0 in /usr/local/lib/python3.10/dist-packages (from uvicorn->gradio) (8.1.3)\n",
            "Requirement already satisfied: anyio<5.0,>=3.0 in /usr/local/lib/python3.10/dist-packages (from httpcore<0.18.0,>=0.15.0->httpx->gradio) (3.6.2)\n",
            "Requirement already satisfied: pyrsistent!=0.17.0,!=0.17.1,!=0.17.2,>=0.14.0 in /usr/local/lib/python3.10/dist-packages (from jsonschema>=3.0->altair>=4.2.0->gradio) (0.19.3)\n",
            "Collecting uc-micro-py\n",
            "  Downloading uc_micro_py-1.0.2-py3-none-any.whl (6.2 kB)\n",
            "Requirement already satisfied: six>=1.5 in /usr/local/lib/python3.10/dist-packages (from python-dateutil>=2.8.1->pandas->gradio) (1.16.0)\n",
            "Building wheels for collected packages: ffmpy\n",
            "  Building wheel for ffmpy (setup.py) ... \u001b[?25l\u001b[?25hdone\n",
            "  Created wheel for ffmpy: filename=ffmpy-0.3.0-py3-none-any.whl size=4707 sha256=cf88965329a31884ea5ceed37aee9f86023bfd30f040839cc2464f7cef172ee7\n",
            "  Stored in directory: /root/.cache/pip/wheels/0c/c2/0e/3b9c6845c6a4e35beb90910cc70d9ac9ab5d47402bd62af0df\n",
            "Successfully built ffmpy\n",
            "Installing collected packages: pydub, ffmpy, websockets, uc-micro-py, semantic-version, python-multipart, orjson, multidict, h11, frozenlist, async-timeout, aiofiles, yarl, uvicorn, starlette, mdit-py-plugins, linkify-it-py, huggingface-hub, httpcore, aiosignal, httpx, fastapi, aiohttp, gradio-client, gradio\n",
            "Successfully installed aiofiles-23.1.0 aiohttp-3.8.4 aiosignal-1.3.1 async-timeout-4.0.2 fastapi-0.95.1 ffmpy-0.3.0 frozenlist-1.3.3 gradio-3.28.3 gradio-client-0.2.1 h11-0.14.0 httpcore-0.17.0 httpx-0.24.0 huggingface-hub-0.14.1 linkify-it-py-2.0.2 mdit-py-plugins-0.3.3 multidict-6.0.4 orjson-3.8.12 pydub-0.25.1 python-multipart-0.0.6 semantic-version-2.10.0 starlette-0.26.1 uc-micro-py-1.0.2 uvicorn-0.22.0 websockets-11.0.3 yarl-1.9.2\n"
          ]
        }
      ]
    },
    {
      "cell_type": "code",
      "source": [
        "import gradio as gr"
      ],
      "metadata": {
        "id": "dT4cRN_4NqAx"
      },
      "execution_count": 2,
      "outputs": []
    },
    {
      "cell_type": "code",
      "source": [
        "from PIL import Image"
      ],
      "metadata": {
        "id": "qMOV5chHbgZa"
      },
      "execution_count": 3,
      "outputs": []
    },
    {
      "cell_type": "code",
      "execution_count": 4,
      "metadata": {
        "id": "3sqFDbsQNbTO"
      },
      "outputs": [],
      "source": [
        "# if __name__ == 'main':\n",
        "  # my_app = gr.Blocks()\n",
        "  # img_ui = ImageProcessUI(my_app)\n",
        "  # img_ui.create_application_ui()\n",
        "  # img_ui.launch_ui()"
      ]
    },
    {
      "cell_type": "code",
      "source": [
        "import numpy as np"
      ],
      "metadata": {
        "id": "bS6T-9CrZnGB"
      },
      "execution_count": 5,
      "outputs": []
    },
    {
      "cell_type": "code",
      "source": [
        "image_global = np.zeros([10,10,3],dtype=np.uint8)"
      ],
      "metadata": {
        "id": "TZCCU3QvZhhz"
      },
      "execution_count": 6,
      "outputs": []
    },
    {
      "cell_type": "code",
      "source": [
        "def process_source_image(image_source):\n",
        "  image_out = image_source\n",
        "  global image_global\n",
        "  image_global = image_source\n",
        "  img_info = []\n",
        "  if image_source is not None:\n",
        "    if len(image_source.shape)==3:\n",
        "      img_info.append({\"Height\": image_source.shape[0]})\n",
        "      img_info.append({\"Width\": image_source.shape[1]})\n",
        "      img_info.append({\"Channels\": image_source.shape[2]})\n",
        "\n",
        "    if len(image_source.shape)==2:\n",
        "      img_info.append({\"Height\": image_source.shape[0]})\n",
        "      img_info.append({\"Width\": image_source.shape[1]})\n",
        "\n",
        "  return str(img_info),image_out"
      ],
      "metadata": {
        "id": "QRs0r0ihSzyc"
      },
      "execution_count": 7,
      "outputs": []
    },
    {
      "cell_type": "code",
      "source": [
        "def image_resizer(img_height, img_width):\n",
        "  image_out = Image.fromarray(image_global)\n",
        "  image_out = image_out.resize((img_width, img_height))\n",
        "  return image_out\n"
      ],
      "metadata": {
        "id": "k1vs7ZTCXgCB"
      },
      "execution_count": 8,
      "outputs": []
    },
    {
      "cell_type": "code",
      "source": [
        "def image_convert_grayscale():\n",
        "    image_out = Image.fromarray(image_global)\n",
        "    image_out = image_out.convert('L')\n",
        "    return image_out"
      ],
      "metadata": {
        "id": "rcTtL49M8l0s"
      },
      "execution_count": 11,
      "outputs": []
    },
    {
      "cell_type": "code",
      "source": [
        "def show_3_channels():\n",
        "    img_red = img_green = img_blue = image_global\n",
        "    if len(image_global.shape) == 3 and image_global.shape[2] == 3:\n",
        "        red_img = np.zeros(image_global.shape)\n",
        "        red_channel = image_global[:, :, 0]\n",
        "        red_img[:, :, 0] = red_channel\n",
        "\n",
        "        green_img = np.zeros(image_global.shape)\n",
        "        green_channel = image_global[:, :, 1]\n",
        "        green_img[:, :, 1] = green_channel\n",
        "\n",
        "        blue_img = np.zeros(image_global.shape)\n",
        "        blue_channel = image_global[:, :, 2]\n",
        "        blue_img[:, :, 2] = blue_channel\n",
        "\n",
        "        img_red = Image.fromarray(red_img.astype(np.uint8))\n",
        "        img_green = Image.fromarray(green_img.astype(np.uint8))\n",
        "        img_blue = Image.fromarray(blue_img.astype(np.uint8))\n",
        "\n",
        "    return img_red, img_green, img_blue,"
      ],
      "metadata": {
        "id": "nggcd_aT9Zjm"
      },
      "execution_count": 14,
      "outputs": []
    },
    {
      "cell_type": "code",
      "source": [
        "def image_process_alpha_channel(alpha_value):\n",
        "    image_out = Image.fromarray(image_global)\n",
        "    image_out.putalpha(alpha_value)\n",
        "    return image_out\n",
        "\n",
        "\n",
        "def image_process_scratchpad(scratch_img):\n",
        "    global image_global\n",
        "    image_global = scratch_img\n",
        "    image_out = Image.fromarray(scratch_img)\n",
        "    return image_out"
      ],
      "metadata": {
        "id": "eMdOdVyQ-Z2V"
      },
      "execution_count": 18,
      "outputs": []
    },
    {
      "cell_type": "code",
      "source": [
        "class ImageProcessUI(object):\n",
        "  def __init__(self, ui_obj):\n",
        "    self.name = \"Image processing UI\"\n",
        "    self.description = \"This class is designed to build UI for our application\"\n",
        "    self.ui_obj = ui_obj\n",
        "\n",
        "  def create_application_ui(self):\n",
        "    with self.ui_obj:\n",
        "      gr.Markdown(\"Image processing Application UI with gradio\")\n",
        "      with gr.Tabs():\n",
        "        with gr.TabItem(\"Select your image\"):\n",
        "          with gr.Row():\n",
        "            with gr.Column():\n",
        "              img_source = gr.Image(label = \"Please select source image\")\n",
        "              source_image_loader = gr.Button(\"Load above image\")\n",
        "\n",
        "            with gr.Column():\n",
        "              output_label = gr.Label(label = \"Image info\")\n",
        "              img_output = gr.Image(label='Image Output')\n",
        "\n",
        "        with gr.TabItem(\"Resize your image\"):\n",
        "          with gr.Row():\n",
        "            with gr.Column():\n",
        "              resize_label = gr.Label(label = \"Select your image height and width\")\n",
        "              image_height = gr.Slider(10, 1000, label='Image Height', value = 100)\n",
        "              image_width = gr.Slider(10, 1000, label='Image Width', value = 100)\n",
        "              image_resize_btn = gr.Button(\"Resize Image\")\n",
        "\n",
        "            with gr.Column():\n",
        "              img_resize_output = gr.Image(label=\"Resized image output\")\n",
        "\n",
        "\n",
        "        with gr.TabItem(\"Image as Grayscale\"):\n",
        "          with gr.Row():\n",
        "              with gr.Column():\n",
        "                  resize_label = gr.Label(label=\"Source image as GrayScale\",\n",
        "                                          value=\"GRAYSCALE IMAGE\")\n",
        "                  img_gray_output = gr.Image(label=\"Grayscale Image Output\")\n",
        "                  image_grayscale_btn = gr.Button(\"Grayscale Your Image\")\n",
        "\n",
        "\n",
        "        with gr.TabItem(\"Image with Red, Green and Blue Channels\"):\n",
        "            with gr.Row():\n",
        "                with gr.Column():\n",
        "                    rgb_label = gr.Label(label=\"Source image with 3 channels\",\n",
        "                                            value=\"RED, GREEN and BLUE IMAGE CHANNELS\")\n",
        "            with gr.Row():\n",
        "                with gr.Column():\n",
        "                    rgb_red_label = gr.Label(label=\"\", value=\"RED CHANNELS\")\n",
        "                    img_red_output = gr.Image(label=\"Image as Red Channel\")\n",
        "                with gr.Column():\n",
        "                    rgb_green_label = gr.Label(label=\"\", value=\"GREEN CHANNELS\")\n",
        "                    img_green_output = gr.Image(label=\"Image as Green Channel\")\n",
        "                with gr.Column():\n",
        "                    rgb_blue_label = gr.Label(label=\"\", value=\"BLUE CHANNELS\")\n",
        "                    img_blue_output = gr.Image(label=\"Image as Blue Channel\")\n",
        "            image_3channels_btn = gr.Button(\"Show 3 Channels in Image\")\n",
        "\n",
        "      with gr.TabItem(\"Image with Alpha Channel\"):\n",
        "          with gr.Row():\n",
        "              with gr.Column():\n",
        "                  alpha_channel_label = gr.Label(label=\"Source image\",\n",
        "                                          value=\"IMAGE WITH ALPHA CHANNEL\")\n",
        "                  alpha_channel_value = gr.Slider(1, 256, label=\"Alpha Channel\", value=128)\n",
        "                  img_alpha_channel_output = gr.Image(label=\"Image with Alpha Channel Output\")\n",
        "                  image_alpha_channel_btn = gr.Button(\"Image with Alpha Channel\")\n",
        "                  alpha_channel_value.change(\n",
        "                      image_process_alpha_channel,\n",
        "                      inputs=[alpha_channel_value],\n",
        "                      outputs=[img_alpha_channel_output]\n",
        "                  )\n",
        "\n",
        "      with gr.TabItem(\"Image with Scratchpad\"):\n",
        "          with gr.Row():\n",
        "              with gr.Column():\n",
        "                  img_scratch_pad_src = gr.Sketchpad(label=\"Draw your image\")\n",
        "                  scratch_pd_btn = gr.Button(\"Update Scribble Image\")\n",
        "              with gr.Column():\n",
        "                  img_scratch_pad_out = gr.Image(label=\"Scribbled Output\")    \n",
        "\n",
        "\n",
        "      source_image_loader.click(\n",
        "          process_source_image,\n",
        "          [\n",
        "              img_source\n",
        "          ],\n",
        "          [\n",
        "              output_label,\n",
        "              img_output\n",
        "          ]\n",
        "      ),\n",
        "\n",
        "      image_resize_btn.click(\n",
        "          image_resizer,\n",
        "          [\n",
        "              image_height,\n",
        "              image_width\n",
        "          ],\n",
        "          [\n",
        "              img_resize_output\n",
        "          ]\n",
        "          \n",
        "      ),\n",
        "      image_grayscale_btn.click(\n",
        "                image_convert_grayscale,\n",
        "                [\n",
        "\n",
        "                ],\n",
        "                [\n",
        "                    img_gray_output\n",
        "                ]\n",
        "            ),\n",
        "\n",
        "      image_3channels_btn.click(\n",
        "                show_3_channels,\n",
        "                [\n",
        "\n",
        "                ],\n",
        "                [\n",
        "                    img_red_output,\n",
        "                    img_green_output,\n",
        "                    img_blue_output\n",
        "                ]\n",
        "            ),\n",
        "\n",
        "\n",
        "      image_alpha_channel_btn.click(\n",
        "                image_process_alpha_channel,\n",
        "                [\n",
        "                    alpha_channel_value\n",
        "                ],\n",
        "                [\n",
        "                    img_alpha_channel_output\n",
        "                ]\n",
        "            ),\n",
        "      scratch_pd_btn.click(\n",
        "                image_process_scratchpad,\n",
        "                [\n",
        "                    img_scratch_pad_src\n",
        "                ],\n",
        "                [\n",
        "                    img_scratch_pad_out\n",
        "                ]\n",
        "            )\n",
        "\n",
        "  def launch_ui(self):\n",
        "    self.ui_obj.launch()"
      ],
      "metadata": {
        "id": "F3WNEb2bNuqA"
      },
      "execution_count": 21,
      "outputs": []
    },
    {
      "cell_type": "code",
      "source": [
        "my_app = gr.Blocks(debug=True)\n",
        "img_ui = ImageProcessUI(my_app)\n",
        "img_ui.create_application_ui()\n",
        "img_ui.launch_ui()"
      ],
      "metadata": {
        "colab": {
          "base_uri": "https://localhost:8080/",
          "height": 650
        },
        "id": "LeGIeXBlOtB-",
        "outputId": "c65cff37-3711-463b-81a0-6e54be7ef26d"
      },
      "execution_count": 22,
      "outputs": [
        {
          "output_type": "stream",
          "name": "stderr",
          "text": [
            "/usr/local/lib/python3.10/dist-packages/gradio/deprecation.py:43: UserWarning: You have unused kwarg parameters in Blocks, please remove them: {'debug': True}\n",
            "  warnings.warn(\n"
          ]
        },
        {
          "output_type": "stream",
          "name": "stdout",
          "text": [
            "Colab notebook detected. To show errors in colab notebook, set debug=True in launch()\n",
            "Note: opening Chrome Inspector may crash demo inside Colab notebooks.\n",
            "\n",
            "To create a public link, set `share=True` in `launch()`.\n"
          ]
        },
        {
          "output_type": "display_data",
          "data": {
            "text/plain": [
              "<IPython.core.display.Javascript object>"
            ],
            "application/javascript": [
              "(async (port, path, width, height, cache, element) => {\n",
              "                        if (!google.colab.kernel.accessAllowed && !cache) {\n",
              "                            return;\n",
              "                        }\n",
              "                        element.appendChild(document.createTextNode(''));\n",
              "                        const url = await google.colab.kernel.proxyPort(port, {cache});\n",
              "\n",
              "                        const external_link = document.createElement('div');\n",
              "                        external_link.innerHTML = `\n",
              "                            <div style=\"font-family: monospace; margin-bottom: 0.5rem\">\n",
              "                                Running on <a href=${new URL(path, url).toString()} target=\"_blank\">\n",
              "                                    https://localhost:${port}${path}\n",
              "                                </a>\n",
              "                            </div>\n",
              "                        `;\n",
              "                        element.appendChild(external_link);\n",
              "\n",
              "                        const iframe = document.createElement('iframe');\n",
              "                        iframe.src = new URL(path, url).toString();\n",
              "                        iframe.height = height;\n",
              "                        iframe.allow = \"autoplay; camera; microphone; clipboard-read; clipboard-write;\"\n",
              "                        iframe.width = width;\n",
              "                        iframe.style.border = 0;\n",
              "                        element.appendChild(iframe);\n",
              "                    })(7865, \"/\", \"100%\", 500, false, window.element)"
            ]
          },
          "metadata": {}
        }
      ]
    },
    {
      "cell_type": "code",
      "source": [],
      "metadata": {
        "id": "cD4HAQkOPelD"
      },
      "execution_count": null,
      "outputs": []
    }
  ]
}