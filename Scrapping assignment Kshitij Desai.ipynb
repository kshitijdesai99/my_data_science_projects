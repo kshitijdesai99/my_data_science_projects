{
 "cells": [
  {
   "cell_type": "code",
   "execution_count": 1,
   "id": "efaa2da3",
   "metadata": {},
   "outputs": [],
   "source": [
    "import requests\n",
    "from bs4 import BeautifulSoup"
   ]
  },
  {
   "cell_type": "code",
   "execution_count": 2,
   "id": "8c553cc8",
   "metadata": {},
   "outputs": [],
   "source": [
    "URL = \"https://store.steampowered.com/games/#p=0&tab=NewReleases\""
   ]
  },
  {
   "cell_type": "code",
   "execution_count": 3,
   "id": "44f90de8",
   "metadata": {},
   "outputs": [],
   "source": [
    "response = requests.get(URL)\n",
    "website_html = response.text"
   ]
  },
  {
   "cell_type": "code",
   "execution_count": 4,
   "id": "a968cd60",
   "metadata": {},
   "outputs": [],
   "source": [
    "soup = BeautifulSoup(website_html, \"html.parser\")"
   ]
  },
  {
   "cell_type": "code",
   "execution_count": 5,
   "id": "f533786c",
   "metadata": {},
   "outputs": [],
   "source": [
    "all_games = soup.find_all(name=\"div\", class_=\"tab_item_name\")"
   ]
  },
  {
   "cell_type": "code",
   "execution_count": 6,
   "id": "43d9bf34",
   "metadata": {},
   "outputs": [],
   "source": [
    "game_titles = [game.getText() for game in all_games]\n",
    "games = game_titles[::1]"
   ]
  },
  {
   "cell_type": "code",
   "execution_count": 7,
   "id": "2c738004",
   "metadata": {},
   "outputs": [
    {
     "data": {
      "text/plain": [
       "['Mango',\n",
       " 'Mortal Online 2',\n",
       " 'Alpine - The Simulation Game',\n",
       " '天命奇御二 Fate Seeker II',\n",
       " 'Farming Simulator 22']"
      ]
     },
     "execution_count": 7,
     "metadata": {},
     "output_type": "execute_result"
    }
   ],
   "source": [
    "top_games = games[0:5:1]\n",
    "top_games"
   ]
  },
  {
   "cell_type": "code",
   "execution_count": 8,
   "id": "a5f2cc7d",
   "metadata": {},
   "outputs": [],
   "source": [
    "all_links = soup.find_all(\"a\",class_='tab_item')\n",
    "link_titles = [link.get('href') for link in all_links]\n",
    "links = link_titles[::1]"
   ]
  },
  {
   "cell_type": "code",
   "execution_count": 9,
   "id": "37205370",
   "metadata": {},
   "outputs": [
    {
     "data": {
      "text/plain": [
       "['https://store.steampowered.com/app/1458690/Mango/?snr=1_1452_4__103',\n",
       " 'https://store.steampowered.com/app/1170950/Mortal_Online_2/?snr=1_1452_4__103',\n",
       " 'https://store.steampowered.com/app/1733610/Alpine__The_Simulation_Game/?snr=1_1452_4__103',\n",
       " 'https://store.steampowered.com/app/1559390/_Fate_Seeker_II/?snr=1_1452_4__103',\n",
       " 'https://store.steampowered.com/app/1248130/Farming_Simulator_22/?snr=1_1452_4__103']"
      ]
     },
     "execution_count": 9,
     "metadata": {},
     "output_type": "execute_result"
    }
   ],
   "source": [
    "links[0:5:1]"
   ]
  },
  {
   "cell_type": "code",
   "execution_count": 10,
   "id": "d82e34e0",
   "metadata": {},
   "outputs": [],
   "source": [
    "gamess = {}"
   ]
  },
  {
   "cell_type": "code",
   "execution_count": 12,
   "id": "d3a99b84",
   "metadata": {
    "scrolled": true
   },
   "outputs": [],
   "source": [
    "for i in range(5):\n",
    "    URL = '{}'.format(links[i])\n",
    "    response = requests.get(URL)\n",
    "    website_html = response.text\n",
    "    soup = BeautifulSoup(website_html, \"html.parser\")\n",
    "    \n",
    "    reviews = soup.find_all('span',{\"class\":[\"responsive_hidden\",\"game_review_summary\"]})\n",
    "   \n",
    "    review_titles = [review.getText() for review in reviews]\n",
    "    \n",
    "    try:\n",
    "        review_title = review_titles[1].strip().strip('()')\n",
    "    except IndexError:\n",
    "        continue\n",
    "        \n",
    "    \n",
    "    developerz = soup.find_all('div',id='developers_list')\n",
    "    developer = [dev.getText() for dev in developerz][0].strip()\n",
    "    \n",
    "    publisherz = soup.find_all('div',{\"class\":['summary','column']})\n",
    "    publisher = [dev.getText() for dev in developerz][0].strip()\n",
    "    \n",
    "    \n",
    "    litag_li = []\n",
    "    for sys_reqz in soup.find_all(\"div\",{\"class\":[\"bb_ul\",\"game_area_sys_req\",\"sysreq_content\", \"active\"]})[:2]:\n",
    "        for litag in sys_reqz.find_all('li'):\n",
    "            litag_li.append(litag.text)\n",
    "    \n",
    "    \n",
    "    features = {}\n",
    "    features['Review']= review_title\n",
    "    features['Developer'] = developer\n",
    "    features['Publisher'] = publisher\n",
    "    features['Requirements'] = litag_li\n",
    "       \n",
    "    gamess[top_games[i]]=features "
   ]
  },
  {
   "cell_type": "code",
   "execution_count": 13,
   "id": "3627dafa",
   "metadata": {
    "scrolled": false
   },
   "outputs": [
    {
     "data": {
      "text/plain": [
       "{'Mango': {'Review': '19',\n",
       "  'Developer': 'Sad Mask Party',\n",
       "  'Publisher': 'Sad Mask Party',\n",
       "  'Requirements': ['OS: Windows 7',\n",
       "   'Processor: Any i5 or higher',\n",
       "   'Memory: 8 GB RAM',\n",
       "   'Graphics: GeForce 960',\n",
       "   'DirectX: Version 10',\n",
       "   'Storage: 5 GB available space',\n",
       "   'Sound Card: Any',\n",
       "   'OS: Windows 10',\n",
       "   'Processor: Any i7 or higher',\n",
       "   'Memory: 16 GB RAM',\n",
       "   'Graphics: GeForce 1060',\n",
       "   'DirectX: Version 10',\n",
       "   'Storage: 5 GB available space',\n",
       "   'Sound Card: Any']},\n",
       " 'Mortal Online 2': {'Review': '6 user reviews',\n",
       "  'Developer': 'Star Vault AB',\n",
       "  'Publisher': 'Star Vault AB',\n",
       "  'Requirements': ['Requires a 64-bit processor and operating system',\n",
       "   'OS: Windows 7/8.1/10 (64-bit versions)',\n",
       "   'Processor: AMD FX-6100/Intel i3-3220 or Equivalent',\n",
       "   'Memory: 16 GB RAM',\n",
       "   'Graphics: AMD Radeon HD 7750, NVIDIA GeForce GTX 650 or Equivalent',\n",
       "   'DirectX: Version 11',\n",
       "   'Network: Broadband Internet connection',\n",
       "   'Storage: 60 GB available space',\n",
       "   'Requires a 64-bit processor and operating system',\n",
       "   'OS: Windows 7/8.1/10 (64-bit versions)',\n",
       "   'Processor: AMD Ryzen 7 1700/Intel i7-6700K or Equivalent',\n",
       "   'Memory: 32 GB RAM',\n",
       "   'Graphics: AMD RX Vega 56, Nvidia GTX 1070/GTX1660Ti or Equivalent',\n",
       "   'DirectX: Version 11',\n",
       "   'Network: Broadband Internet connection',\n",
       "   'Storage: 60 GB available space']},\n",
       " '天命奇御二 Fate Seeker II': {'Review': '1,031',\n",
       "  'Developer': '甲山林娛樂股份有限公司',\n",
       "  'Publisher': '甲山林娛樂股份有限公司',\n",
       "  'Requirements': ['Requires a 64-bit processor and operating system',\n",
       "   'OS: Windows10(64-bit Only)',\n",
       "   'Processor: Intel Core i5 4590 or equivalent',\n",
       "   'Memory: 8 GB RAM',\n",
       "   'Graphics: NVIDIA GeForce GTX 950 or equivalent',\n",
       "   'DirectX: Version 11',\n",
       "   'Storage: 30 GB available space',\n",
       "   'Sound Card: Direct Sound Compatible',\n",
       "   'Requires a 64-bit processor and operating system',\n",
       "   'OS: Windows10(64-bit Only)',\n",
       "   'Processor: Intel Core i7 6700 or faster processor',\n",
       "   'Memory: 16 GB RAM',\n",
       "   'Graphics: NVIDIA GeForce GTX 1070 or equivalent',\n",
       "   'DirectX: Version 11',\n",
       "   'Storage: 30 GB available space',\n",
       "   'Sound Card: Direct Sound Compatible']},\n",
       " 'Farming Simulator 22': {'Review': '1,915',\n",
       "  'Developer': 'Giants Software',\n",
       "  'Publisher': 'Giants Software',\n",
       "  'Requirements': ['Requires a 64-bit processor and operating system',\n",
       "   'OS: Windows 10 Home (x64)',\n",
       "   'Processor: Intel Core i5-3330 or AMD FX-8320 or better',\n",
       "   'Memory: 8 GB RAM',\n",
       "   'Graphics: GeForce GTX 660 or AMD Radeon R7 265 or better (min 2GB VRAM)',\n",
       "   'DirectX: Version 11',\n",
       "   'Network: Broadband Internet connection',\n",
       "   'Storage: 35 GB available space',\n",
       "   'Sound Card: Sound card',\n",
       "   'Additional Notes: These system requirements can´t cover all possible system configurations so issues could occur that influence the functionality in some cases.',\n",
       "   'Requires a 64-bit processor and operating system',\n",
       "   'OS: Windows 10 Home (x64)',\n",
       "   'Processor: Intel Core i5-5675C or AMD Ryzen 5 1600 or better',\n",
       "   'Memory: 8 GB RAM',\n",
       "   'Graphics: GeForce GTX 1060 or Radeon RX 570 or better (min 6GB VRAM)',\n",
       "   'DirectX: Version 11',\n",
       "   'Network: Broadband Internet connection',\n",
       "   'Storage: 35 GB available space',\n",
       "   'Sound Card: Sound card',\n",
       "   'Additional Notes: These system requirements can´t cover all possible system configurations so issues could occur that influence the functionality in some cases.']}}"
      ]
     },
     "execution_count": 13,
     "metadata": {},
     "output_type": "execute_result"
    }
   ],
   "source": [
    "gamess"
   ]
  }
 ],
 "metadata": {
  "kernelspec": {
   "display_name": "Python 3 (ipykernel)",
   "language": "python",
   "name": "python3"
  },
  "language_info": {
   "codemirror_mode": {
    "name": "ipython",
    "version": 3
   },
   "file_extension": ".py",
   "mimetype": "text/x-python",
   "name": "python",
   "nbconvert_exporter": "python",
   "pygments_lexer": "ipython3",
   "version": "3.9.7"
  }
 },
 "nbformat": 4,
 "nbformat_minor": 5
}
